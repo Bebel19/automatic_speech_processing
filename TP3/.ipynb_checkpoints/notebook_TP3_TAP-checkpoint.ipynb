{
 "cells": [
  {
   "cell_type": "markdown",
   "metadata": {},
   "source": [
    "# TP3 : Reconnaissance de mots isolés par programmation dynamique (DTW)\n",
    "\n",
    "NOM - PRÉNOM :\n",
    "Déposer le notebook sur moodle à la fin de la séance."
   ]
  },
  {
   "cell_type": "code",
   "execution_count": 20,
   "metadata": {},
   "outputs": [],
   "source": [
    "import numpy as np\n",
    "from math import floor, inf, dist\n",
    "import scipy.io.wavfile as wav\n",
    "import os\n",
    "import matplotlib.pyplot as plt"
   ]
  },
  {
   "cell_type": "markdown",
   "metadata": {},
   "source": [
    "# Réutilisation de fonctions pour la lecture et la paramétrisation"
   ]
  },
  {
   "cell_type": "code",
   "execution_count": 21,
   "metadata": {},
   "outputs": [],
   "source": [
    "# Réutiliser la fonction lecture permettant de lire un fichier son et de connaître ses caractéristiques \n",
    "# (fréquence d’échantillonnage, durée).\n",
    "\n",
    "# LECTURE d'un fichier Wave\n",
    "def lecture(fichier, nb_bits = 16):\n",
    "    # Lire le fichier son\n",
    "    fe, son = wav.read(fichier)\n",
    "    \n",
    "    # Durée du fichier en secondes\n",
    "    duree = len(son) / fe\n",
    "    \n",
    "    # Normalisation des échantillons entre -1 et 1\n",
    "    max_val = 2 ** (nb_bits - 1)\n",
    "    son_normalise = son / max_val\n",
    "    \n",
    "    return son_normalise, fe, duree\n",
    "    "
   ]
  },
  {
   "cell_type": "code",
   "execution_count": 22,
   "metadata": {},
   "outputs": [],
   "source": [
    "# Réutiliser la fonction parametrisation qui calcule les paramètres acoustiques\n",
    "# (coefficients cepstraux) d’un fichier sonore sur des fenêtres de taille  \"taille_fenetre\"   avec un\n",
    "# recouvrement de moitié .\n",
    "    \n",
    "# Calcul de \"nbe_coef\" coefficients cepstraux\n",
    "def parametrisation(signal, taille_fenetre, nbe_coef):\n",
    "    # Initialisation de la matrice résultat\n",
    "    recouvrement = floor(taille_fenetre / 2)\n",
    "    nb_fen = floor((np.size(signal) - taille_fenetre) / recouvrement) + 1\n",
    "    mfcc = np.zeros((nb_fen, nbe_coef))\n",
    "\n",
    "    # Calcul des MFCC\n",
    "    for fen in range(nb_fen):\n",
    "        p = fen * recouvrement\n",
    "        spectre = abs(np.fft.fft(np.multiply(signal[p:p + taille_fenetre], np.hamming(taille_fenetre))))\n",
    "        cepstre = np.fft.fft(np.log(spectre))\n",
    "        cc = cepstre[1:nbe_coef+1].real\n",
    "        mfcc[fen, :] = cc\n",
    "\n",
    "    return mfcc\n",
    "    "
   ]
  },
  {
   "cell_type": "code",
   "execution_count": 23,
   "metadata": {},
   "outputs": [],
   "source": [
    "# Modifier votre fonction   parametrisation_total  (utilisant la fonction   parametrisation  )\n",
    "# afin qu’elle permette de calculer les paramètres pour l’ensemble des fichiers d’un répertoire\n",
    "# rep_wav   et de stocker les résultats dans un répertoire   rep_mfcc. Cette fonction renvoie\n",
    "# la liste des noms de fichiers traités.\n",
    "    \n",
    "# Fonction de paramétrisation totale --> tous les fichiers du répertoire 'WAV/APP'\n",
    "def parametrisation_total(taille_fenetre, nbe_coef, rep_wav, rep_mfcc, nb_bits = 16):\n",
    "    # Vérifier si le répertoire de sortie existe, sinon le créer\n",
    "    if not os.path.exists(rep_mfcc):\n",
    "        os.makedirs(rep_mfcc)\n",
    "    \n",
    "    # Liste des fichiers traités\n",
    "    fichiers_traitees = []\n",
    "    \n",
    "    # Parcourir tous les fichiers du répertoire 'rep_wav'\n",
    "    for fichier in os.listdir(rep_wav):\n",
    "        # Vérifier si le fichier est bien un fichier .wav\n",
    "        if fichier.endswith('.wav'):\n",
    "            # Lire le fichier audio\n",
    "            fe, signal = wav.read(os.path.join(rep_wav, fichier))\n",
    "            \n",
    "            # Appeler la fonction parametrisation pour obtenir les coefficients cepstraux\n",
    "            mfcc = parametrisation(signal, taille_fenetre, nbe_coef)\n",
    "            \n",
    "            # Enregistrer les MFCC dans un fichier .mfcc\n",
    "            nom_fichier_mfcc = os.path.join(rep_mfcc, fichier.replace('.wav', '.mfcc'))\n",
    "            np.savetxt(nom_fichier_mfcc, mfcc,fmt='%f')\n",
    "            \n",
    "            # Ajouter le nom du fichier traité à la liste\n",
    "            fichiers_traitees.append(fichier)\n",
    "    \n",
    "    # Retourner la liste des fichiers traités\n",
    "    return fichiers_traitees\n"
   ]
  },
  {
   "cell_type": "markdown",
   "metadata": {},
   "source": [
    "# Programmation dynamique"
   ]
  },
  {
   "cell_type": "code",
   "execution_count": 24,
   "metadata": {},
   "outputs": [],
   "source": [
    "# Ecrire une fonction dtw qui prend deux arguments en entrée : la matrice de coefficients\n",
    "# cepstraux du signal à reconnaître (observation) et la matrice de coefficients cepstraux d'un\n",
    "# signal de référence. Cette fonction renvoie le coût normalisé.\n",
    "    \n",
    "# Calcul de la DTW entre deux vecteurs\n",
    "def dtw(mfcc_ref, mfcc_obs):\n",
    "    # Taille des matrices de coefficients cepstraux\n",
    "    n, m = mfcc_ref.shape\n",
    "    p, q = mfcc_obs.shape\n",
    "    \n",
    "    # Création de la matrice de coût initialisée à l'infini\n",
    "    dtw_matrix = np.inf * np.ones((n + 1, m + 1))\n",
    "    \n",
    "    # Initialisation du point de départ (coin supérieur gauche)\n",
    "    dtw_matrix[0, 0] = 0\n",
    "    \n",
    "    # Calcul du coût DTW en remplissant la matrice\n",
    "    for i in range(1, n + 1):\n",
    "        for j in range(1, m + 1):\n",
    "            # Calcul de la distance entre les deux coefficients (on utilise ici la distance Euclidienne)\n",
    "            dist = np.linalg.norm(mfcc_ref[i - 1] - mfcc_obs[j - 1])\n",
    "            \n",
    "            # Remplir la matrice de coût avec le minimum entre les voisins\n",
    "            dtw_matrix[i, j] = dist + min(dtw_matrix[i - 1, j],    # De haut\n",
    "                                          dtw_matrix[i, j - 1],    # De gauche\n",
    "                                          dtw_matrix[i - 1, j - 1]) # Diagonale\n",
    "    \n",
    "    # Le coût total est dans le coin inférieur droit\n",
    "    dtw_cost = dtw_matrix[n, m]\n",
    "    \n",
    "    # Normalisation du coût : on divise par la longueur des signaux\n",
    "    normalized_cost = dtw_cost / max(n, m)\n",
    "    \n",
    "    return normalized_cost\n",
    "\n"
   ]
  },
  {
   "cell_type": "code",
   "execution_count": 63,
   "metadata": {},
   "outputs": [],
   "source": [
    "#Ecrire une fonction   dtw_total   (utilisant la fonction   dtw  ) qui calcule la DTW sur toutes\n",
    "# les observations (fichiers Wave) du répertoire   rep_obs   par rapport   toutes les références\n",
    "# (fichiers MFCC) du répertoire   rep_ref. Cette fonction renvoie une matrice de coûts de taille\n",
    "# nb_fichier_obs x nb_fichier_ref.\n",
    "\n",
    "# DTW sur toutes les observations par rapport à toutes les références\n",
    "\n",
    "def DTW_total(taille_fenetre, nbe_coef, rep_mfcc_ref, rep_wav_obs, nb_bits=16):\n",
    "    # Récupérer la liste des fichiers de référence (MFCC) et des fichiers d'observation (Wav)\n",
    "    fichiers_ref = [f for f in os.listdir(rep_mfcc_ref) if f.endswith('.mfcc')] \n",
    "    fichiers_obs = [f for f in os.listdir(rep_wav_obs) if f.endswith('.wav')]\n",
    "    \n",
    "    # Nombre de fichiers de référence et d'observations\n",
    "    nb_fichier_ref = len(fichiers_ref)\n",
    "    nb_fichier_obs = len(fichiers_obs)\n",
    "    \n",
    "    # Initialisation de la matrice des coûts\n",
    "    couts_dtw = np.zeros((nb_fichier_obs, nb_fichier_ref))\n",
    "    \n",
    "    # Parcourir les fichiers d'observation\n",
    "    for i, fichier_obs in enumerate(fichiers_obs):\n",
    "        # Lire l'observation et calculer les MFCC\n",
    "        fe, signal = wav.read(os.path.join(rep_wav_obs, fichier_obs))\n",
    "        mfcc_obs = parametrisation(signal, taille_fenetre, nbe_coef)\n",
    "        \n",
    "        # Parcourir les fichiers de référence\n",
    "        for j, fichier_ref in enumerate(fichiers_ref):\n",
    "            # Charger la référence (MFCC) en tant que fichier texte\n",
    "            mfcc_ref = np.loadtxt(os.path.join(rep_mfcc_ref, fichier_ref))  # Lecture d'un fichier texte\n",
    "            \n",
    "            # Calculer la DTW pour cette paire observation-référence\n",
    "            couts_dtw[i, j] = dtw(mfcc_ref, mfcc_obs)\n",
    "    \n",
    "    return couts_dtw\n",
    "\n",
    "\n"
   ]
  },
  {
   "cell_type": "markdown",
   "metadata": {},
   "source": [
    "# Affichages et tests"
   ]
  },
  {
   "cell_type": "code",
   "execution_count": 64,
   "metadata": {},
   "outputs": [],
   "source": [
    "# Ecrire un programme principal qui lance les fonctions précédentes et affiche pour chaque\n",
    "# observation (mot inconnu), le mot le plus probable.\n",
    "\n",
    "# Initialisation\n",
    "q = 16\n",
    "taille_fenetre = 1024\n",
    "nbe_coef = 16\n",
    "rep_ref = 'SIGNAL/REF'\n",
    "rep_obs = 'SIGNAL/OBS'\n",
    "rep_mfcc = 'MFCC'\n"
   ]
  },
  {
   "cell_type": "code",
   "execution_count": 65,
   "metadata": {},
   "outputs": [
    {
     "name": "stdout",
     "output_type": "stream",
     "text": [
      "[-0.00012207 -0.00045776 -0.00064087 ...  0.00088501  0.00082397\n",
      "  0.00085449]\n",
      "[ 3.05175781e-05 -2.13623047e-04 -6.10351562e-04 ... -1.67846680e-03\n",
      " -2.34985352e-03 -2.04467773e-03]\n",
      "497.9252119904691\n"
     ]
    }
   ],
   "source": [
    "# Paramétrisation des fichiers références\n",
    "\n",
    "# Test de la DTW\n",
    "\n",
    "signal_ref, fe_ref, duree_ref = lecture(rep_ref+'/alpha.wav', 16)\n",
    "print(signal_ref)\n",
    "mfcc_ref = parametrisation(signal_ref, 1024, 8)\n",
    "\n",
    "signal_obs, fe_obs, duree_obs = lecture(rep_obs+'/alpha.wav', 16)\n",
    "print(signal_obs)\n",
    "mfcc_obs = parametrisation(signal_obs, 1024, 8)\n",
    "\n",
    "normalized_cost = dtw(mfcc_ref, mfcc_obs)\n",
    "\n",
    "print (normalized_cost)"
   ]
  },
  {
   "cell_type": "code",
   "execution_count": 67,
   "metadata": {},
   "outputs": [
    {
     "name": "stdout",
     "output_type": "stream",
     "text": [
      "All costs = [[405.01140389 483.68412485 463.38834831 580.38236834 453.69446481\n",
      "  513.86533075 523.45492806 637.65702817 549.93260926 544.67771274\n",
      "  480.59804219 457.01402976 549.91525008]\n",
      " [336.17239011 423.36197075 434.59598583 530.13876408 480.85371716\n",
      "  442.55963157 483.74878766 695.81712374 521.73364607 474.04649138\n",
      "  422.4570465  489.24412309 519.96623601]\n",
      " [569.60449335 496.53903331 574.61508214 615.64066382 732.7776434\n",
      "  547.48938186 468.46681754 646.77031807 537.81394742 555.18137478\n",
      "  621.83515261 682.29734338 525.8650698 ]\n",
      " [344.08383521 429.71554185 455.44185428 551.34755232 465.226365\n",
      "  471.20009983 535.45148296 721.8124007  533.59283002 488.3444554\n",
      "  430.70069625 533.02603512 521.83651138]\n",
      " [449.81513714 489.37088175 504.24703051 579.27178813 503.83939677\n",
      "  562.24184171 575.22486263 649.16075872 534.3837878  498.44135317\n",
      "  429.13061731 496.94468546 543.06627197]\n",
      " [278.751039   287.99281059 408.80210395 396.11498852 336.39691253\n",
      "  411.76915612 404.98249052 550.8367167  389.91977951 366.32260163\n",
      "  278.17638402 399.34333662 434.84968736]\n",
      " [347.65187271 422.73259057 420.15381222 479.34970583 525.13394256\n",
      "  460.59362739 490.2938463  657.85906327 479.98358976 433.32583716\n",
      "  431.89215049 534.31390003 510.36395758]\n",
      " [434.99370493 458.81572709 475.21625299 484.38437762 496.70523833\n",
      "  555.29176602 475.4788503  578.08047401 497.92521201 534.59293202\n",
      "  512.00958813 589.63766156 552.09552866]\n",
      " [380.99350118 437.74585751 509.18296816 506.7547608  505.22911707\n",
      "  472.83837564 546.93439421 733.3670877  471.91307461 437.20832748\n",
      "  462.44736652 542.97975053 495.94058912]\n",
      " [529.80592541 481.54947404 587.50040738 578.27148093 677.37602013\n",
      "  523.38686444 563.32090329 792.17663945 511.78340785 520.4635116\n",
      "  581.60371276 645.41914339 534.98052966]\n",
      " [361.02444308 423.30109386 499.99831126 527.51073875 491.50048454\n",
      "  490.4028014  558.97206919 698.7744308  495.16658432 442.88526695\n",
      "  427.82631254 507.35085078 524.92305778]\n",
      " [393.65554443 449.56813447 566.78192812 540.63318703 553.11387643\n",
      "  495.55064862 578.91682191 870.47537874 495.72421928 455.78979118\n",
      "  441.87258988 555.52131439 524.98475728]\n",
      " [426.66300483 497.52490986 475.60441812 577.95073519 519.84577763\n",
      "  538.7945659  583.15659366 714.44958727 540.6202017  502.7482838\n",
      "  444.76603907 556.91722619 537.42944474]]\n"
     ]
    }
   ],
   "source": [
    "# DTW sur toutes les observations par rapport à chaque référence\n",
    "taille_fenetre = 1024\n",
    "nbe_coef = 8\n",
    "\n",
    "parametrisation_total(taille_fenetre, nbe_coef, rep_ref, rep_mfcc)\n",
    "\n",
    "\n",
    "all_costs = DTW_total(taille_fenetre, nbe_coef, rep_mfcc, rep_obs)\n",
    "\n",
    "print(f\"All costs = {all_costs}\")"
   ]
  },
  {
   "cell_type": "code",
   "execution_count": 78,
   "metadata": {},
   "outputs": [
    {
     "name": "stdout",
     "output_type": "stream",
     "text": [
      "ji\n",
      "['india.mfcc', 'golf.mfcc', 'lima.mfcc', 'mike.mfcc', 'hotel.mfcc', 'juliett.mfcc', 'kilo.mfcc', 'charlie.mfcc', 'alpha.mfcc', 'delta.mfcc', 'bravo.mfcc', 'echo.mfcc', 'foxtrott.mfcc']\n",
      "jo\n",
      "\n",
      "\n",
      "bravo.wav\n"
     ]
    }
   ],
   "source": [
    "\n",
    "# Affichage amélioré\n",
    "\n",
    "# Ajouter à votre programme principal, un affichage des coûts entre une observation et chaque\n",
    "# référence sous forme d'histogramme via la commande bar.\n",
    "# Calculer le score de reconnaissance.\n",
    "\n",
    "# Pour chaque observation, affichage des coûts (par rapport aux références) sous forme d'histogramme\n",
    "\n",
    "# Récupérer les noms des fichiers de référence et d'observation\n",
    "fichiers_ref = [f for f in os.listdir(rep_mfcc) if f.endswith('.mfcc')]  # Fichiers de référence .mfcc\n",
    "print(\"ji\")\n",
    "print(fichiers_ref)\n",
    "print(\"jo\")\n",
    "print(\"\\n\")\n",
    "\n",
    "fichiers_obs = [f for f in os.listdir(rep_obs) if f.endswith('.wav')]  # Fichiers d'observation .wav\n",
    "print(fichiers_obs)\n",
    "# Affichage des coûts DTW sous forme d'histogramme\n",
    "for i, fichier_obs in enumerate(fichiers_obs):\n",
    "    if fichier_obs.endswith('.wav'):\n",
    "        # Affichage des coûts pour chaque observation sous forme d'histogramme\n",
    "        plt.figure(figsize=(10, 6))\n",
    "        plt.bar(range(all_costs.shape[1]), all_costs[i], color='skyblue')\n",
    "        plt.xlabel('Références')\n",
    "        plt.ylabel('Coût DTW')\n",
    "        plt.title(f\"Coûts DTW pour l'observation {fichier_obs}\")\n",
    "        plt.xticks(range(all_costs.shape[1]), fichiers_ref, rotation=90)\n",
    "        plt.tight_layout()  # Pour éviter que les labels se superposent\n",
    "        plt.show()\n",
    "\n",
    "        # Calcul du mot le plus probable (référence avec le coût minimal)\n",
    "        index_min = np.argmin(all_costs[i])  # Trouver l'index du coût minimal\n",
    "        print(f\"Le mot le plus probable pour l'observation {fichier_obs} est : {fichiers_ref[index_min]} avec un coût DTW de {all_costs[i, index_min]:.4f}\")\n",
    "\n",
    "# Calcul du score de reconnaissance (moyenne des coûts DTW)\n",
    "mean_dtw = np.mean(all_costs)\n",
    "print(f\"\\nScore final de reconnaissance (moyenne des coûts DTW) : {mean_dtw:.4f}\")\n",
    "\n"
   ]
  },
  {
   "cell_type": "code",
   "execution_count": 62,
   "metadata": {},
   "outputs": [],
   "source": [
    "# Affichage score final\n"
   ]
  },
  {
   "cell_type": "code",
   "execution_count": 12,
   "metadata": {},
   "outputs": [],
   "source": [
    "# Autres tests \n",
    "# Bien évidemment, afin d’améliorer les résultats, vous pourrez modifier :\n",
    "# - le nombre de paramètres (coefficients cepstraux) : nbe_coef,\n",
    "# - la taille de la fenêtre d’analyse : taille_fenetre,\n",
    "# ET TESTER AVEC VOS PROPRES ENREGISTREMENTS !"
   ]
  }
 ],
 "metadata": {
  "kernelspec": {
   "display_name": "Python 3 (ipykernel)",
   "language": "python",
   "name": "python3"
  },
  "language_info": {
   "codemirror_mode": {
    "name": "ipython",
    "version": 3
   },
   "file_extension": ".py",
   "mimetype": "text/x-python",
   "name": "python",
   "nbconvert_exporter": "python",
   "pygments_lexer": "ipython3",
   "version": "3.11.2"
  }
 },
 "nbformat": 4,
 "nbformat_minor": 4
}
